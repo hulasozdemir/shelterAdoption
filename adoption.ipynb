{
 "cells": [
  {
   "cell_type": "markdown",
   "id": "8999eb92-6581-47b6-a75c-a03037f352c7",
   "metadata": {},
   "source": [
    "# Kaggle competition\n",
    "\n",
    "## SLICED s01e10, Playoffs 2\n",
    "## Predict outcomes of shelter animals 🥺\n"
   ]
  },
  {
   "cell_type": "code",
   "execution_count": 26,
   "id": "72cf6e85-a8a0-440a-b7df-ead7453156cd",
   "metadata": {},
   "outputs": [],
   "source": [
    "import pandas as pd\n",
    "import numpy as np\n",
    "import datetime\n",
    "\n",
    "\n",
    "from sklearn.preprocessing import OneHotEncoder\n",
    "import category_encoders as ce\n",
    "\n",
    "from sklearn.ensemble import RandomForestClassifier"
   ]
  },
  {
   "cell_type": "code",
   "execution_count": 27,
   "id": "44bb831f-a610-4f89-82d2-64c39cb85fda",
   "metadata": {},
   "outputs": [],
   "source": [
    "train = pd.read_csv(\"train.csv\")\n",
    "test = pd.read_csv(\"test.csv\")\n"
   ]
  },
  {
   "cell_type": "code",
   "execution_count": 28,
   "id": "80b0d889-38ee-447f-8017-525aab5710e2",
   "metadata": {},
   "outputs": [],
   "source": [
    "train = train.dropna()\n",
    "train = train.reset_index(drop=True)\n",
    "\n",
    "test = test.dropna()\n",
    "test = test.reset_index(drop=True)"
   ]
  },
  {
   "cell_type": "code",
   "execution_count": 29,
   "id": "56e5a87c-d8f8-49ca-99f4-9b987dfb1fd5",
   "metadata": {},
   "outputs": [],
   "source": [
    "def preprocessing(df):\n",
    "    df[\"date_of_birth\"] = df[\"date_of_birth\"].astype(dtype=\"datetime64\") # Convert these two into datetime64 \n",
    "    df[\"datetime\"] = df[\"datetime\"].astype(dtype=\"datetime64\")\n",
    "    \n",
    "    df[\"age\"] = None\n",
    "    df['age'] = (df[\"datetime\"] - df[\"date_of_birth\"]).apply(lambda x:  x.days / 365.25) #Defining age as the diference between current time and dob.\n",
    "        \n",
    "    df=df.drop(['age_upon_outcome','date_of_birth','datetime','name','id'],axis=1) # we don't need these columns anymore.\n",
    "    \n",
    "    return df"
   ]
  },
  {
   "cell_type": "code",
   "execution_count": 30,
   "id": "a80f2a34-8973-402d-8015-35337a550a97",
   "metadata": {},
   "outputs": [],
   "source": [
    "train = preprocessing(train)\n",
    "test = preprocessing(test)"
   ]
  },
  {
   "cell_type": "code",
   "execution_count": 31,
   "id": "c61d40d6-6675-4b0a-ac0d-87ad0b763af2",
   "metadata": {},
   "outputs": [
    {
     "data": {
      "text/plain": [
       "Index(['animal_type', 'breed', 'color', 'outcome_type', 'sex', 'spay_neuter',\n",
       "       'age'],\n",
       "      dtype='object')"
      ]
     },
     "execution_count": 31,
     "metadata": {},
     "output_type": "execute_result"
    }
   ],
   "source": [
    "train.columns"
   ]
  },
  {
   "cell_type": "code",
   "execution_count": 32,
   "id": "8d156408-eb3d-4ffc-9842-cae026d2a8e2",
   "metadata": {},
   "outputs": [],
   "source": [
    "encoder=ce.OneHotEncoder(cols=[\"animal_type\",\"breed\",\"color\",\"sex\",\"spay_neuter\"],return_df=True, use_cat_names=True) # One hot encode these columns"
   ]
  },
  {
   "cell_type": "code",
   "execution_count": 33,
   "id": "703b7603-ee16-494e-a3c0-e94e9ffe0946",
   "metadata": {},
   "outputs": [],
   "source": [
    "train_features = train.drop(\"outcome_type\",axis=1) # Seperate Y column\n",
    "train_outcome = train[\"outcome_type\"]\n",
    "encoder.fit(train_features) # apply encoder on features\n",
    "train_features = encoder.transform(train_features)"
   ]
  },
  {
   "cell_type": "code",
   "execution_count": 34,
   "id": "281b2373-b1a7-4389-a0a9-923353e9b5a0",
   "metadata": {},
   "outputs": [],
   "source": [
    "test = encoder.transform(test) # Use the same encoder on the test set"
   ]
  },
  {
   "cell_type": "code",
   "execution_count": 49,
   "id": "113f41fb-5efd-48a8-84b9-7a1e0d8445f8",
   "metadata": {},
   "outputs": [],
   "source": [
    "clf = RandomForestClassifier(max_depth=2, random_state=0) # Using Random Forest classifier"
   ]
  },
  {
   "cell_type": "code",
   "execution_count": 37,
   "id": "40f8b710-bee4-4324-9a10-25cdcce94eff",
   "metadata": {},
   "outputs": [
    {
     "data": {
      "text/html": [
       "<style>#sk-container-id-1 {color: black;background-color: white;}#sk-container-id-1 pre{padding: 0;}#sk-container-id-1 div.sk-toggleable {background-color: white;}#sk-container-id-1 label.sk-toggleable__label {cursor: pointer;display: block;width: 100%;margin-bottom: 0;padding: 0.3em;box-sizing: border-box;text-align: center;}#sk-container-id-1 label.sk-toggleable__label-arrow:before {content: \"▸\";float: left;margin-right: 0.25em;color: #696969;}#sk-container-id-1 label.sk-toggleable__label-arrow:hover:before {color: black;}#sk-container-id-1 div.sk-estimator:hover label.sk-toggleable__label-arrow:before {color: black;}#sk-container-id-1 div.sk-toggleable__content {max-height: 0;max-width: 0;overflow: hidden;text-align: left;background-color: #f0f8ff;}#sk-container-id-1 div.sk-toggleable__content pre {margin: 0.2em;color: black;border-radius: 0.25em;background-color: #f0f8ff;}#sk-container-id-1 input.sk-toggleable__control:checked~div.sk-toggleable__content {max-height: 200px;max-width: 100%;overflow: auto;}#sk-container-id-1 input.sk-toggleable__control:checked~label.sk-toggleable__label-arrow:before {content: \"▾\";}#sk-container-id-1 div.sk-estimator input.sk-toggleable__control:checked~label.sk-toggleable__label {background-color: #d4ebff;}#sk-container-id-1 div.sk-label input.sk-toggleable__control:checked~label.sk-toggleable__label {background-color: #d4ebff;}#sk-container-id-1 input.sk-hidden--visually {border: 0;clip: rect(1px 1px 1px 1px);clip: rect(1px, 1px, 1px, 1px);height: 1px;margin: -1px;overflow: hidden;padding: 0;position: absolute;width: 1px;}#sk-container-id-1 div.sk-estimator {font-family: monospace;background-color: #f0f8ff;border: 1px dotted black;border-radius: 0.25em;box-sizing: border-box;margin-bottom: 0.5em;}#sk-container-id-1 div.sk-estimator:hover {background-color: #d4ebff;}#sk-container-id-1 div.sk-parallel-item::after {content: \"\";width: 100%;border-bottom: 1px solid gray;flex-grow: 1;}#sk-container-id-1 div.sk-label:hover label.sk-toggleable__label {background-color: #d4ebff;}#sk-container-id-1 div.sk-serial::before {content: \"\";position: absolute;border-left: 1px solid gray;box-sizing: border-box;top: 0;bottom: 0;left: 50%;z-index: 0;}#sk-container-id-1 div.sk-serial {display: flex;flex-direction: column;align-items: center;background-color: white;padding-right: 0.2em;padding-left: 0.2em;position: relative;}#sk-container-id-1 div.sk-item {position: relative;z-index: 1;}#sk-container-id-1 div.sk-parallel {display: flex;align-items: stretch;justify-content: center;background-color: white;position: relative;}#sk-container-id-1 div.sk-item::before, #sk-container-id-1 div.sk-parallel-item::before {content: \"\";position: absolute;border-left: 1px solid gray;box-sizing: border-box;top: 0;bottom: 0;left: 50%;z-index: -1;}#sk-container-id-1 div.sk-parallel-item {display: flex;flex-direction: column;z-index: 1;position: relative;background-color: white;}#sk-container-id-1 div.sk-parallel-item:first-child::after {align-self: flex-end;width: 50%;}#sk-container-id-1 div.sk-parallel-item:last-child::after {align-self: flex-start;width: 50%;}#sk-container-id-1 div.sk-parallel-item:only-child::after {width: 0;}#sk-container-id-1 div.sk-dashed-wrapped {border: 1px dashed gray;margin: 0 0.4em 0.5em 0.4em;box-sizing: border-box;padding-bottom: 0.4em;background-color: white;}#sk-container-id-1 div.sk-label label {font-family: monospace;font-weight: bold;display: inline-block;line-height: 1.2em;}#sk-container-id-1 div.sk-label-container {text-align: center;}#sk-container-id-1 div.sk-container {/* jupyter's `normalize.less` sets `[hidden] { display: none; }` but bootstrap.min.css set `[hidden] { display: none !important; }` so we also need the `!important` here to be able to override the default hidden behavior on the sphinx rendered scikit-learn.org. See: https://github.com/scikit-learn/scikit-learn/issues/21755 */display: inline-block !important;position: relative;}#sk-container-id-1 div.sk-text-repr-fallback {display: none;}</style><div id=\"sk-container-id-1\" class=\"sk-top-container\"><div class=\"sk-text-repr-fallback\"><pre>RandomForestClassifier(max_depth=2, random_state=0)</pre><b>In a Jupyter environment, please rerun this cell to show the HTML representation or trust the notebook. <br />On GitHub, the HTML representation is unable to render, please try loading this page with nbviewer.org.</b></div><div class=\"sk-container\" hidden><div class=\"sk-item\"><div class=\"sk-estimator sk-toggleable\"><input class=\"sk-toggleable__control sk-hidden--visually\" id=\"sk-estimator-id-1\" type=\"checkbox\" checked><label for=\"sk-estimator-id-1\" class=\"sk-toggleable__label sk-toggleable__label-arrow\">RandomForestClassifier</label><div class=\"sk-toggleable__content\"><pre>RandomForestClassifier(max_depth=2, random_state=0)</pre></div></div></div></div></div>"
      ],
      "text/plain": [
       "RandomForestClassifier(max_depth=2, random_state=0)"
      ]
     },
     "execution_count": 37,
     "metadata": {},
     "output_type": "execute_result"
    }
   ],
   "source": [
    "clf.fit(train_features, train_outcome)"
   ]
  },
  {
   "cell_type": "code",
   "execution_count": 39,
   "id": "81c3e6f5-9283-4e2b-86ed-a84a4ec05b85",
   "metadata": {},
   "outputs": [],
   "source": [
    "predictions = clf.predict(test)\n",
    "predictions_df =  pd.DataFrame(predictions, columns = [\"outcome_type\"])\n",
    "encoder=ce.OneHotEncoder(cols=\"outcome_type\",return_df=True, use_cat_names=True)"
   ]
  },
  {
   "cell_type": "code",
   "execution_count": 40,
   "id": "a41834e8-3eb9-4deb-919d-e6c2ba69aa83",
   "metadata": {},
   "outputs": [],
   "source": [
    "encoder.fit(train_outcome)\n",
    "df_submission = encoder.transform(predictions_df)"
   ]
  },
  {
   "cell_type": "code",
   "execution_count": 50,
   "id": "b63b2742-698b-4416-bd66-4f901480503f",
   "metadata": {},
   "outputs": [
    {
     "data": {
      "text/html": [
       "<div>\n",
       "<style scoped>\n",
       "    .dataframe tbody tr th:only-of-type {\n",
       "        vertical-align: middle;\n",
       "    }\n",
       "\n",
       "    .dataframe tbody tr th {\n",
       "        vertical-align: top;\n",
       "    }\n",
       "\n",
       "    .dataframe thead th {\n",
       "        text-align: right;\n",
       "    }\n",
       "</style>\n",
       "<table border=\"1\" class=\"dataframe\">\n",
       "  <thead>\n",
       "    <tr style=\"text-align: right;\">\n",
       "      <th></th>\n",
       "      <th>adoption</th>\n",
       "      <th>no outcome</th>\n",
       "      <th>transfer</th>\n",
       "    </tr>\n",
       "  </thead>\n",
       "  <tbody>\n",
       "    <tr>\n",
       "      <th>0</th>\n",
       "      <td>1</td>\n",
       "      <td>0</td>\n",
       "      <td>0</td>\n",
       "    </tr>\n",
       "    <tr>\n",
       "      <th>1</th>\n",
       "      <td>1</td>\n",
       "      <td>0</td>\n",
       "      <td>0</td>\n",
       "    </tr>\n",
       "    <tr>\n",
       "      <th>2</th>\n",
       "      <td>1</td>\n",
       "      <td>0</td>\n",
       "      <td>0</td>\n",
       "    </tr>\n",
       "    <tr>\n",
       "      <th>3</th>\n",
       "      <td>1</td>\n",
       "      <td>0</td>\n",
       "      <td>0</td>\n",
       "    </tr>\n",
       "    <tr>\n",
       "      <th>4</th>\n",
       "      <td>1</td>\n",
       "      <td>0</td>\n",
       "      <td>0</td>\n",
       "    </tr>\n",
       "    <tr>\n",
       "      <th>...</th>\n",
       "      <td>...</td>\n",
       "      <td>...</td>\n",
       "      <td>...</td>\n",
       "    </tr>\n",
       "    <tr>\n",
       "      <th>16179</th>\n",
       "      <td>1</td>\n",
       "      <td>0</td>\n",
       "      <td>0</td>\n",
       "    </tr>\n",
       "    <tr>\n",
       "      <th>16180</th>\n",
       "      <td>1</td>\n",
       "      <td>0</td>\n",
       "      <td>0</td>\n",
       "    </tr>\n",
       "    <tr>\n",
       "      <th>16181</th>\n",
       "      <td>1</td>\n",
       "      <td>0</td>\n",
       "      <td>0</td>\n",
       "    </tr>\n",
       "    <tr>\n",
       "      <th>16182</th>\n",
       "      <td>1</td>\n",
       "      <td>0</td>\n",
       "      <td>0</td>\n",
       "    </tr>\n",
       "    <tr>\n",
       "      <th>16183</th>\n",
       "      <td>1</td>\n",
       "      <td>0</td>\n",
       "      <td>0</td>\n",
       "    </tr>\n",
       "  </tbody>\n",
       "</table>\n",
       "<p>16184 rows × 3 columns</p>\n",
       "</div>"
      ],
      "text/plain": [
       "       adoption  no outcome  transfer\n",
       "0             1           0         0\n",
       "1             1           0         0\n",
       "2             1           0         0\n",
       "3             1           0         0\n",
       "4             1           0         0\n",
       "...         ...         ...       ...\n",
       "16179         1           0         0\n",
       "16180         1           0         0\n",
       "16181         1           0         0\n",
       "16182         1           0         0\n",
       "16183         1           0         0\n",
       "\n",
       "[16184 rows x 3 columns]"
      ]
     },
     "execution_count": 50,
     "metadata": {},
     "output_type": "execute_result"
    }
   ],
   "source": [
    "df_submission"
   ]
  },
  {
   "cell_type": "code",
   "execution_count": 42,
   "id": "eaccda97-f058-4f03-93fb-f969584c4762",
   "metadata": {},
   "outputs": [],
   "source": [
    "df_submission = df_submission.rename(columns={\"outcome_type_adoption\": \"adoption\", \"outcome_type_transfer\": \"transfer\", \"outcome_type_no outcome\": \"no outcome\"})"
   ]
  },
  {
   "cell_type": "code",
   "execution_count": 43,
   "id": "d8b01c60-62a0-4bd5-a003-789db4fda5c5",
   "metadata": {},
   "outputs": [],
   "source": [
    "column_to_move = df_submission.pop(\"no outcome\")\n",
    "df_submission.insert(1, \"no outcome\", column_to_move)"
   ]
  },
  {
   "cell_type": "code",
   "execution_count": 44,
   "id": "d48ca05c-7a9c-4a20-9f0c-3884c15f9b75",
   "metadata": {},
   "outputs": [],
   "source": [
    "df_submission.to_csv(\"submission.csv\")"
   ]
  },
  {
   "cell_type": "code",
   "execution_count": 48,
   "id": "90f63169-956e-42cd-a36d-5ee3726752ad",
   "metadata": {},
   "outputs": [
    {
     "data": {
      "text/plain": [
       "48552"
      ]
     },
     "execution_count": 48,
     "metadata": {},
     "output_type": "execute_result"
    }
   ],
   "source": []
  },
  {
   "cell_type": "code",
   "execution_count": null,
   "id": "8fe4760f-b4fd-4db1-b1e2-822634f0c022",
   "metadata": {},
   "outputs": [],
   "source": []
  }
 ],
 "metadata": {
  "kernelspec": {
   "display_name": "Python 3",
   "language": "python",
   "name": "python3"
  },
  "language_info": {
   "codemirror_mode": {
    "name": "ipython",
    "version": 3
   },
   "file_extension": ".py",
   "mimetype": "text/x-python",
   "name": "python",
   "nbconvert_exporter": "python",
   "pygments_lexer": "ipython3",
   "version": "3.9.12"
  }
 },
 "nbformat": 4,
 "nbformat_minor": 5
}
